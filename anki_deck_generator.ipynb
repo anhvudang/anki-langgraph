{
 "cells": [
  {
   "cell_type": "code",
   "execution_count": 21,
   "id": "d5197aba-5d46-421b-ae3b-4e3034edcfda",
   "metadata": {},
   "outputs": [],
   "source": [
    "%%capture --no-stderr\n",
    "%pip install --quiet -U langchain_core langgraph langchain_openai openpyxl pandas IPython"
   ]
  },
  {
   "cell_type": "markdown",
   "id": "fa99c304",
   "metadata": {},
   "source": [
    "# First, we need to set the environment variables\n",
    "\n",
    "This script requires OPENAI_API_KEY and LANGSMITH_API_KEY to be set in the environment variables.\n",
    "\n",
    "Also, you need to choose the model to use for the AI."
   ]
  },
  {
   "cell_type": "code",
   "execution_count": 22,
   "id": "b0f7c789",
   "metadata": {},
   "outputs": [],
   "source": [
    "import os, getpass\n",
    "from langchain_openai import ChatOpenAI\n",
    "\n",
    "\n",
    "def _set_env(var: str):\n",
    "    if not os.environ.get(var):\n",
    "        os.environ[var] = getpass.getpass(f\"{var}: \")\n",
    "\n",
    "_set_env(\"OPENAI_API_KEY\")\n",
    "_set_env(\"LANGSMITH_API_KEY\")\n",
    "os.environ[\"LANGSMITH_TRACING\"] = \"true\"\n",
    "os.environ[\"LANGSMITH_PROJECT\"] = \"anki_deck_generator\"\n",
    "\n",
    "gen_data_ai_chat = ChatOpenAI(model=\"gpt-4.1\", temperature=0)\n",
    "check_data_ai_chat = ChatOpenAI(model=\"gpt-4.1\", temperature=0)"
   ]
  },
  {
   "cell_type": "markdown",
   "id": "05068f09",
   "metadata": {},
   "source": [
    "# Second, we need to define the data structure\n",
    "\n",
    "You need to define the data structure for anki deck by `data_structure` variable:\n",
    "\n",
    "```python\n",
    "data_structure = {\n",
    "    \"field_1_name\": \"field_1_description\",\n",
    "    \"field_name_2\": \"field_2_description\",\n",
    "    \"field_name_3\": \"field_3_description\"\n",
    "}\n",
    "```\n",
    "\n",
    "Example:\n",
    "\n",
    "```python\n",
    "data_structure = {\n",
    "    \"vocabulary\": \"The word to be learned\",\n",
    "    \"meaning_en\": \"The meaning of the word in English\",\n",
    "    \"meaning_vi\": \"The meaning of the word in Japanese\",\n",
    "    \"hiragana\": \"The hiragana of the word\",\n",
    "    \"kanji_vi\": \"Explain the kanji of the word in Vietnamese as they are related to Chinese characters\",\n",
    "    \"sentence\": \"The sentence using the word\",\n",
    "    \"sentence_translation_en\": \"The translation of the sentence in English\",\n",
    "    \"sentence_translation_vi\": \"The translation of the sentence in Vietnamese\",\n",
    "    \"note\": \"Any additional information about the word\"\n",
    "}\n",
    "```\n",
    "\n"
   ]
  },
  {
   "cell_type": "code",
   "execution_count": 23,
   "id": "766d9554",
   "metadata": {},
   "outputs": [],
   "source": [
    "data_structure = {\n",
    "    \"vocabulary\": \"The word to be learned\",\n",
    "    \"meaning_en\": \"The meaning of the word in English\",\n",
    "    \"meaning_vi\": \"The meaning of the word in Japanese\",\n",
    "    \"hiragana\": \"The hiragana of the word\",\n",
    "    \"kanji_vi\": \"Explain the kanji of the word in Vietnamese as they are related to Chinese characters\",\n",
    "    \"sentence\": \"The sentence using the word\",\n",
    "    \"sentence_translation_en\": \"The translation of the sentence in English\",\n",
    "    \"sentence_translation_vi\": \"The translation of the sentence in Vietnamese\",\n",
    "    \"note\": \"Any additional information about the word\"\n",
    "}"
   ]
  },
  {
   "cell_type": "markdown",
   "id": "20a84212",
   "metadata": {},
   "source": [
    "# Third, we need to list out all the words to be learned, with note for the AI if any\n",
    "\n",
    "You can/should generate this list using AI.\n",
    "\n",
    "```python\n",
    "vocabularies = [\"word_without_note_1\", \"word_without_note_2\", \"word_without_note_3\"]\n",
    "vocabularies_with_notes = {\n",
    "    \"word_with_note_1\": \"note_to_ai_for_word_with_note_1\",\n",
    "    \"word_with_note_2\": \"note_to_ai_for_word_with_note_2\",\n",
    "    \"word_with_note_3\": \"note_to_ai_for_word_with_note_3\"\n",
    "}\n",
    "```\n",
    "\n",
    "Example:\n",
    "\n",
    "```python\n",
    "vocabularies = [\"猫\", \"電車\", \"公園\"] \n",
    "vocabularies_with_notes = {\n",
    "    \"勉強\": \"I am truggle to remember it, so please explain it more in detail with more examples\",\n",
    "    \"学校\": \"This word is quite easy, so no need to explain it in detail\",\n",
    "    \"食べ物\": \"\", # Empty note is also fine\n",
    "}\n",
    "```"
   ]
  },
  {
   "cell_type": "code",
   "execution_count": 24,
   "id": "2b4c95c7",
   "metadata": {},
   "outputs": [],
   "source": [
    "from typing import List, Dict\n",
    "\n",
    "vocabularies: List[str] = [\"猫\", \"電車\", \"公園\"] \n",
    "vocabularies_with_notes: Dict[str, str] = {\n",
    "    \"勉強\": \"I am truggle to remember it, so please explain it more in detail with more examples\",\n",
    "    \"学校\": \"This word is quite easy, so no need to explain it in detail\",\n",
    "    \"食べ物\": \"\", # Empty note is also fine\n",
    "}"
   ]
  },
  {
   "cell_type": "markdown",
   "id": "a6b77618",
   "metadata": {},
   "source": [
    "# Finally, let's verify the data you added"
   ]
  },
  {
   "cell_type": "code",
   "execution_count": 25,
   "id": "69ca726b",
   "metadata": {},
   "outputs": [
    {
     "name": "stdout",
     "output_type": "stream",
     "text": [
      "✓ Data verification passed!\n"
     ]
    }
   ],
   "source": [
    "def verify_vocabularies_data(vocabularies: List[str], vocabularies_with_notes: Dict[str, str]) -> bool:\n",
    "    \"\"\"\n",
    "    Verify that vocabularies and vocabularies_with_notes follow the expected types and structure.\n",
    "    \n",
    "    Args:\n",
    "        vocabularies: List of vocabulary words\n",
    "        vocabularies_with_notes: Dictionary mapping vocabulary words to notes\n",
    "        \n",
    "    Returns:\n",
    "        bool: True if data is valid, False otherwise\n",
    "    \"\"\"\n",
    "    try:\n",
    "        # Check if vocabularies is a list\n",
    "        if not isinstance(vocabularies, list):\n",
    "            print(\"Error: vocabularies must be a list\")\n",
    "            return False\n",
    "            \n",
    "        # Check if vocabularies_with_notes is a dictionary\n",
    "        if not isinstance(vocabularies_with_notes, dict):\n",
    "            print(\"Error: vocabularies_with_notes must be a dictionary\")\n",
    "            return False\n",
    "            \n",
    "        # Check if all items in vocabularies are strings\n",
    "        for i, word in enumerate(vocabularies):\n",
    "            if not isinstance(word, str):\n",
    "                print(f\"Error: vocabularies[{i}] must be a string, got {type(word)}\")\n",
    "                return False\n",
    "                \n",
    "        # Check if all keys and values in vocabularies_with_notes are strings\n",
    "        for word, note in vocabularies_with_notes.items():\n",
    "            if not isinstance(word, str):\n",
    "                print(f\"Error: Key in vocabularies_with_notes must be a string, got {type(word)}\")\n",
    "                return False\n",
    "            if not isinstance(note, str):\n",
    "                print(f\"Error: Value in vocabularies_with_notes must be a string, got {type(note)}\")\n",
    "                return False\n",
    "                \n",
    "        print(\"✓ Data verification passed!\")\n",
    "        return True\n",
    "        \n",
    "    except Exception as e:\n",
    "        print(f\"Error during verification: {e}\")\n",
    "        return False\n",
    "\n",
    "assert verify_vocabularies_data(vocabularies, vocabularies_with_notes)"
   ]
  },
  {
   "cell_type": "markdown",
   "id": "dc30f759",
   "metadata": {},
   "source": [
    "# All is good, now we can start to generate the anki deck\n",
    "\n",
    "You can find the csv under `./output/anki_deck_data.csv`"
   ]
  },
  {
   "cell_type": "code",
   "execution_count": 26,
   "id": "9ea2f146",
   "metadata": {},
   "outputs": [
    {
     "name": "stdout",
     "output_type": "stream",
     "text": [
      "Total vocabularies after merging: 6\n",
      "All vocabularies with notes:\n",
      "  勉強: I am truggle to remember it, so please explain it more in detail with more examples\n",
      "  学校: This word is quite easy, so no need to explain it in detail\n",
      "  食べ物: (no note)\n",
      "  猫: (no note)\n",
      "  電車: (no note)\n",
      "  公園: (no note)\n",
      "\n",
      "✓ Vocabularies merged successfully!\n"
     ]
    }
   ],
   "source": [
    "# Merge vocabularies and vocabularies_with_notes into a single dictionary\n",
    "for word in vocabularies:\n",
    "    if word not in vocabularies_with_notes:\n",
    "        vocabularies_with_notes[word] = \"\"\n",
    "\n",
    "print(f\"Total vocabularies after merging: {len(vocabularies_with_notes)}\")\n",
    "print(\"All vocabularies with notes:\")\n",
    "for word, note in vocabularies_with_notes.items():\n",
    "    if note:\n",
    "        print(f\"  {word}: {note}\")\n",
    "    else:\n",
    "        print(f\"  {word}: (no note)\")\n",
    "        \n",
    "print(\"\\n✓ Vocabularies merged successfully!\")\n"
   ]
  },
  {
   "cell_type": "code",
   "execution_count": 27,
   "id": "c4a8d2bc",
   "metadata": {},
   "outputs": [],
   "source": [
    "# Define the data structure for the AI LangGraph\n",
    "\n",
    "from typing import Annotated, TypedDict\n",
    "\n",
    "class AnkiDeckData(TypedDict):\n",
    "    vocabularies_with_notes: Dict[str, str] # The vocabularies with notes\n",
    "    ai_gen_data: List[Dict[str, str]] # The data generated by the AI"
   ]
  },
  {
   "cell_type": "code",
   "execution_count": 28,
   "id": "e5316750",
   "metadata": {},
   "outputs": [],
   "source": [
    "# Define the graph\n",
    "\n",
    "from IPython.display import Image, display\n",
    "from langgraph.graph import StateGraph, START, END\n",
    "\n",
    "def node_generate_anki_deck_data(deck_data: AnkiDeckData) -> AnkiDeckData:\n",
    "    \n",
    "    pass\n",
    "\n",
    "def node_check_anki_deck_data(deck_data: AnkiDeckData) -> AnkiDeckData:\n",
    "    pass"
   ]
  }
 ],
 "metadata": {
  "kernelspec": {
   "display_name": "data_analysis",
   "language": "python",
   "name": "python3"
  },
  "language_info": {
   "codemirror_mode": {
    "name": "ipython",
    "version": 3
   },
   "file_extension": ".py",
   "mimetype": "text/x-python",
   "name": "python",
   "nbconvert_exporter": "python",
   "pygments_lexer": "ipython3",
   "version": "3.12.0"
  }
 },
 "nbformat": 4,
 "nbformat_minor": 5
}
